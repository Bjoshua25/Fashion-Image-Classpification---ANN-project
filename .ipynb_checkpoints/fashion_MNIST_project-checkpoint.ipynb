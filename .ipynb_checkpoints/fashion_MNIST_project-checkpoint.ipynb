{
 "cells": [
  {
   "cell_type": "markdown",
   "id": "9c6c71a7-db66-4431-a730-94b031d1c41f",
   "metadata": {},
   "source": [
    "# Fashion Image Classification using Fashion MNIST\n",
    "\n",
    "- Import Libraries\n",
    "- Load the dataset from keras\n",
    "- preprocessing\n",
    "- Exploratory Data Analysis\n",
    "- validation split\n",
    "- Instantiate and Build model\n",
    "- Complie the Model\n",
    "- Fit Model\n",
    "- Evaluate model\n",
    "- make predictions\n",
    "- Final Script"
   ]
  },
  {
   "cell_type": "markdown",
   "id": "c0c0160e-9174-4a54-b49c-583871fbf490",
   "metadata": {},
   "source": [
    "## Import Libraries"
   ]
  },
  {
   "cell_type": "code",
   "execution_count": 6,
   "id": "0c1c10c6-634f-4ce8-b1ae-c0432324bae4",
   "metadata": {},
   "outputs": [],
   "source": [
    "# Import Libraries\n",
    "\n",
    "import matplotlib.pyplot as plt\n",
    "import tensorflow as tf\n",
    "from tensorflow import keras\n",
    "from keras.models import Sequential\n",
    "from keras.datasets import fashion_mnist"
   ]
  },
  {
   "cell_type": "markdown",
   "id": "e3cf802a-ed00-433f-82c4-7cec1834d0f8",
   "metadata": {},
   "source": [
    "## Load the dataset from keras\n"
   ]
  },
  {
   "cell_type": "code",
   "execution_count": 12,
   "id": "649a6a99-a8d4-4bf3-a4b1-0792bb4db809",
   "metadata": {},
   "outputs": [
    {
     "name": "stdout",
     "output_type": "stream",
     "text": [
      "X_train: (60000, 28, 28)\n",
      "y_train: (60000,)\n",
      "X_test: (10000, 28, 28)\n",
      "y_test: (10000,)\n"
     ]
    }
   ],
   "source": [
    "# Load the dataset from keras\n",
    "(X_train_full, y_train_full), (X_test, y_test) = fashion_mnist.load_data()\n",
    "\n",
    "\n",
    "print(f\"X_train: {X_train_full.shape}\")\n",
    "print(f\"y_train: {y_train_full.shape}\")\n",
    "print(f\"X_test: {X_test.shape}\")\n",
    "print(f\"y_test: {y_test.shape}\")"
   ]
  },
  {
   "cell_type": "markdown",
   "id": "e34e502a-11ed-4ff4-a2c3-4faa0376b7e9",
   "metadata": {},
   "source": [
    "## Preprocessing"
   ]
  },
  {
   "cell_type": "code",
   "execution_count": 14,
   "id": "237b303f-f03b-4ced-8475-511ac159fece",
   "metadata": {},
   "outputs": [
    {
     "name": "stdout",
     "output_type": "stream",
     "text": [
      "X_valid: (5000, 28, 28)\n",
      "y_valid: (5000,)\n",
      "X_train: (55000, 28, 28)\n",
      "y_train: (55000,)\n"
     ]
    }
   ],
   "source": [
    "# Split into Validation sets\n",
    "X_valid, X_train = X_train_full[:5000], X_train_full[5000:]\n",
    "y_valid, y_train = y_train_full[:5000], y_train_full[5000:]\n",
    "\n",
    "# Scale between 0 and 1\n",
    "X_valid = X_valid / 255\n",
    "X_train = X_train / 255\n",
    "\n",
    "\n",
    "print(f\"X_valid: {X_valid.shape}\")\n",
    "print(f\"y_valid: {y_valid.shape}\")\n",
    "print(f\"X_train: {X_train.shape}\")\n",
    "print(f\"y_train: {y_train.shape}\")"
   ]
  },
  {
   "cell_type": "markdown",
   "id": "3dfc7af9-cf04-449e-9d2d-109533ecece1",
   "metadata": {},
   "source": [
    "## Exploratory Data Analysis"
   ]
  },
  {
   "cell_type": "code",
   "execution_count": 19,
   "id": "44277e27-8864-483e-8e62-ee6510935cab",
   "metadata": {},
   "outputs": [
    {
     "name": "stdout",
     "output_type": "stream",
     "text": [
      "The equivalent item name for class label: '4 is 'Coat'\n",
      "The total number of class labels are: 10\n"
     ]
    }
   ],
   "source": [
    "# list of class names in the datasets\n",
    "class_names = [\n",
    "    \"T-shirt/top\", \n",
    "    \"Trouser\", \n",
    "    \"Pullover\", \n",
    "    \"Dress\", \n",
    "    \"Coat\", \n",
    "    \"Sandal\", \n",
    "    \"Shirt\", \n",
    "    \"Sneaker\", \n",
    "    \"Bag\", \n",
    "    \"Ankle boot\"\n",
    "]\n",
    "\n",
    "# An Example of first training label\n",
    "first_item = class_names[y_train[0]]\n",
    "print(f\"The equivalent item name for class label: '{y_train[0]} is '{first_item}'\")\n",
    "print(f\"The total number of class labels are: {len(class_names)}\")"
   ]
  },
  {
   "cell_type": "markdown",
   "id": "b3556b18-631c-43ac-ad17-44648ff41756",
   "metadata": {},
   "source": [
    "## Instantiate and Build model"
   ]
  },
  {
   "cell_type": "code",
   "execution_count": 25,
   "id": "5c2c7bfa-14d6-4bf9-a895-cbed1742e1c8",
   "metadata": {},
   "outputs": [
    {
     "name": "stderr",
     "output_type": "stream",
     "text": [
      "C:\\Users\\user\\anaconda3\\Lib\\site-packages\\keras\\src\\layers\\reshaping\\flatten.py:37: UserWarning: Do not pass an `input_shape`/`input_dim` argument to a layer. When using Sequential models, prefer using an `Input(shape)` object as the first layer in the model instead.\n",
      "  super().__init__(**kwargs)\n"
     ]
    }
   ],
   "source": [
    "# Instantiate Model\n",
    "model = Sequential()\n",
    "\n",
    "# Add Layers to the model\n",
    "model.add(keras.layers.Flatten(input_shape = [28, 28]))\n",
    "model.add(keras.layers.Dense(300, activation = \"relu\"))\n",
    "model.add(keras.layers.Dense(100, activation = \"relu\"))\n",
    "model.add(keras.layers.Dense(10, activation= \"softmax\"))"
   ]
  },
  {
   "cell_type": "code",
   "execution_count": null,
   "id": "3518f687-f736-486c-9bf5-ab3be3055892",
   "metadata": {},
   "outputs": [],
   "source": []
  }
 ],
 "metadata": {
  "kernelspec": {
   "display_name": "Python 3 (ipykernel)",
   "language": "python",
   "name": "python3"
  },
  "language_info": {
   "codemirror_mode": {
    "name": "ipython",
    "version": 3
   },
   "file_extension": ".py",
   "mimetype": "text/x-python",
   "name": "python",
   "nbconvert_exporter": "python",
   "pygments_lexer": "ipython3",
   "version": "3.12.7"
  }
 },
 "nbformat": 4,
 "nbformat_minor": 5
}
