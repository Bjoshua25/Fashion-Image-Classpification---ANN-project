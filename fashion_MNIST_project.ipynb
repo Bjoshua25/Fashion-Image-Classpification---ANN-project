{
 "cells": [
  {
   "cell_type": "markdown",
   "id": "9c6c71a7-db66-4431-a730-94b031d1c41f",
   "metadata": {},
   "source": [
    "# Fashion Image Classification using Fashion MNIST\n",
    "\n",
    "- Import Libraries\n",
    "- Load the dataset from keras\n",
    "- preprocessing\n",
    "- Exploratory Data Analysis\n",
    "- validation split\n",
    "- Instantiate and Build model\n",
    "- Complie the Model\n",
    "- Fit Model\n",
    "- Evaluate model\n",
    "- make predictions\n",
    "- Confusion Matrix\n",
    "- Final Script"
   ]
  },
  {
   "cell_type": "markdown",
   "id": "c0c0160e-9174-4a54-b49c-583871fbf490",
   "metadata": {},
   "source": [
    "## Import Libraries"
   ]
  },
  {
   "cell_type": "code",
   "execution_count": 1,
   "id": "0c1c10c6-634f-4ce8-b1ae-c0432324bae4",
   "metadata": {},
   "outputs": [],
   "source": [
    "# Import Libraries\n",
    "\n",
    "import pandas as pd\n",
    "import numpy as np\n",
    "import matplotlib.pyplot as plt\n",
    "import tensorflow as tf\n",
    "from tensorflow import keras\n",
    "from sklearn.metrics import ConfusionMatrixDisplay, confusion_matrix\n",
    "from keras.models import Sequential\n",
    "from keras.datasets import fashion_mnist"
   ]
  },
  {
   "cell_type": "markdown",
   "id": "e3cf802a-ed00-433f-82c4-7cec1834d0f8",
   "metadata": {
    "jp-MarkdownHeadingCollapsed": true
   },
   "source": [
    "## Load the dataset from keras\n"
   ]
  },
  {
   "cell_type": "code",
   "execution_count": null,
   "id": "649a6a99-a8d4-4bf3-a4b1-0792bb4db809",
   "metadata": {},
   "outputs": [],
   "source": [
    "# Load the dataset from keras\n",
    "(X_train_full, y_train_full), (X_test, y_test) = fashion_mnist.load_data()\n",
    "\n",
    "\n",
    "print(f\"X_train: {X_train_full.shape}\")\n",
    "print(f\"y_train: {y_train_full.shape}\")\n",
    "print(f\"X_test: {X_test.shape}\")\n",
    "print(f\"y_test: {y_test.shape}\")"
   ]
  },
  {
   "cell_type": "markdown",
   "id": "e34e502a-11ed-4ff4-a2c3-4faa0376b7e9",
   "metadata": {
    "jp-MarkdownHeadingCollapsed": true
   },
   "source": [
    "## Preprocessing"
   ]
  },
  {
   "cell_type": "code",
   "execution_count": null,
   "id": "237b303f-f03b-4ced-8475-511ac159fece",
   "metadata": {},
   "outputs": [],
   "source": [
    "# Split into Validation sets\n",
    "X_valid, X_train = X_train_full[:5000], X_train_full[5000:]\n",
    "y_valid, y_train = y_train_full[:5000], y_train_full[5000:]\n",
    "\n",
    "# Scale between 0 and 1\n",
    "X_valid = X_valid / 255\n",
    "X_train = X_train / 255\n",
    "\n",
    "\n",
    "print(f\"X_valid: {X_valid.shape}\")\n",
    "print(f\"y_valid: {y_valid.shape}\")\n",
    "print(f\"X_train: {X_train.shape}\")\n",
    "print(f\"y_train: {y_train.shape}\")"
   ]
  },
  {
   "cell_type": "markdown",
   "id": "3dfc7af9-cf04-449e-9d2d-109533ecece1",
   "metadata": {
    "jp-MarkdownHeadingCollapsed": true
   },
   "source": [
    "## Exploratory Data Analysis"
   ]
  },
  {
   "cell_type": "code",
   "execution_count": null,
   "id": "44277e27-8864-483e-8e62-ee6510935cab",
   "metadata": {},
   "outputs": [],
   "source": [
    "# list of class names in the datasets\n",
    "class_names = [\n",
    "    \"T-shirt/top\", \n",
    "    \"Trouser\", \n",
    "    \"Pullover\", \n",
    "    \"Dress\", \n",
    "    \"Coat\", \n",
    "    \"Sandal\", \n",
    "    \"Shirt\", \n",
    "    \"Sneaker\", \n",
    "    \"Bag\", \n",
    "    \"Ankle boot\"\n",
    "]\n",
    "\n",
    "# An Example of first training label\n",
    "first_item = class_names[y_train[0]]\n",
    "print(f\"The equivalent item name for class label: '{y_train[0]} is '{first_item}'\")\n",
    "print(f\"The total number of class labels are: {len(class_names)}\")\n"
   ]
  },
  {
   "cell_type": "markdown",
   "id": "b3556b18-631c-43ac-ad17-44648ff41756",
   "metadata": {
    "jp-MarkdownHeadingCollapsed": true
   },
   "source": [
    "## Instantiate and Build model"
   ]
  },
  {
   "cell_type": "code",
   "execution_count": null,
   "id": "5c2c7bfa-14d6-4bf9-a895-cbed1742e1c8",
   "metadata": {},
   "outputs": [],
   "source": [
    "# Instantiate Model\n",
    "mode = Sequential()\n",
    "\n",
    "# Add Layers to the model\n",
    "model.add(keras.layers.Flatten(input_shape = [28, 28]))\n",
    "model.add(keras.layers.Dense(300, activation = \"relu\"))\n",
    "model.add(keras.layers.Dense(100, activation = \"relu\"))\n",
    "model.add(keras.layers.Dense(10, activation= \"softmax\"))"
   ]
  },
  {
   "cell_type": "code",
   "execution_count": null,
   "id": "3518f687-f736-486c-9bf5-ab3be3055892",
   "metadata": {},
   "outputs": [],
   "source": [
    "# model summary\n",
    "model.summary()"
   ]
  },
  {
   "cell_type": "markdown",
   "id": "3e0d572b-c266-451c-9602-939d76cd36cf",
   "metadata": {
    "jp-MarkdownHeadingCollapsed": true
   },
   "source": [
    "## Compiling the Model"
   ]
  },
  {
   "cell_type": "code",
   "execution_count": null,
   "id": "f3243632-2d8b-4779-80c3-e85b13afcfae",
   "metadata": {},
   "outputs": [],
   "source": [
    "# Compiling the model\n",
    "mode.compile(\n",
    "    loss = \"sparse_categorical_crossentropy\",\n",
    "    optimizer = \"sgd\",\n",
    "    metrics = [\"accuracy\"]\n",
    ")"
   ]
  },
  {
   "cell_type": "markdown",
   "id": "3ca98292-9579-447f-ae58-e6990014d742",
   "metadata": {
    "jp-MarkdownHeadingCollapsed": true
   },
   "source": [
    "## Training the Model"
   ]
  },
  {
   "cell_type": "code",
   "execution_count": null,
   "id": "4d307a84-b8d1-4cda-a8c2-7e6218f3afd2",
   "metadata": {},
   "outputs": [],
   "source": [
    "# Fitting the Model to the train and Validation datasets\n",
    "\n",
    "history = model.fit(\n",
    "    X_train,\n",
    "        y_train,\n",
    "        epochs= 30,\n",
    "        validation_data= (X_valid, y_valid)\n",
    ")\n",
    "        "
   ]
  },
  {
   "cell_type": "code",
   "execution_count": null,
   "id": "a9d4326f-81b5-496d-aa64-c6bbcab8d9df",
   "metadata": {},
   "outputs": [],
   "source": [
    "# Save the Model\n",
    "model.save(\"fashion_mnist_model_2.h5\")\n",
    "\n",
    "# # # load saved Model\n",
    "# model = keras.models.load_model(\"fashion_mnist_model_2.h5\")"
   ]
  },
  {
   "cell_type": "code",
   "execution_count": null,
   "id": "176d73b3-df4a-4ead-b89a-59099372feb0",
   "metadata": {},
   "outputs": [],
   "source": [
    "# Learning Curve \n",
    "\n",
    "pd.DataFrame(history.history).plot(\n",
    "    title = \"Learning Curve\",\n",
    "    xlabel = \"epochs\", \n",
    "    ylabel = \"Accuracy and Loss\"\n",
    ");"
   ]
  },
  {
   "cell_type": "markdown",
   "id": "874c87f3-9ecc-44d0-bf1a-304fc36e7574",
   "metadata": {
    "jp-MarkdownHeadingCollapsed": true
   },
   "source": [
    "## Evaluate model"
   ]
  },
  {
   "cell_type": "code",
   "execution_count": null,
   "id": "5d4ac33f-e742-4ac3-86db-82faed4df130",
   "metadata": {},
   "outputs": [],
   "source": [
    "# Evaluate model\n",
    "\n",
    "loss, accuracy = model.evaluate(X_test, y_test)\n",
    "print(f\"Loss: {loss}\")\n",
    "print(f\"Accuracy: {accuracy}\")"
   ]
  },
  {
   "cell_type": "markdown",
   "id": "b8d64935-d8b1-4263-ae57-e74041727220",
   "metadata": {
    "jp-MarkdownHeadingCollapsed": true
   },
   "source": [
    "## Make Prediction"
   ]
  },
  {
   "cell_type": "code",
   "execution_count": null,
   "id": "6fd476f9-4536-4561-9af1-589e22c17773",
   "metadata": {},
   "outputs": [],
   "source": [
    "# Make Prediction in One-Hot Encoding\n",
    "y_pred = model.predict(X_test[:3])\n",
    "\n",
    "# Convert Prediction to class labels\n",
    "y_pred_label = np.argmax(y_pred, axis = 1)\n",
    "\n",
    "# Obtaining class name for predicted labels\n",
    "class_ = np.array(class_names)[y_pred_label]\n",
    "\n",
    "# Show three Samples\n",
    "plt.figure(figsize=(10, 3))\n",
    "for i in range(3):\n",
    "    plt.subplot(1, 3, i + 1)\n",
    "    plt.imshow(X_test[i].reshape(28, 28), cmap = \"gray\")\n",
    "    plt.title(f\"pred: {np.array(class_names)[y_pred_label[i]]}\")\n",
    "    plt.axis(\"off\")\n",
    "\n",
    "plt.show()"
   ]
  },
  {
   "cell_type": "markdown",
   "id": "82a70d4d-5862-4f6e-a19c-ef7f4067a60e",
   "metadata": {
    "jp-MarkdownHeadingCollapsed": true
   },
   "source": [
    "## Confusion Matrix"
   ]
  },
  {
   "cell_type": "code",
   "execution_count": null,
   "id": "931f5bf8-9ead-4c20-b7b3-55e8226f864b",
   "metadata": {},
   "outputs": [],
   "source": [
    "# Prediction\n",
    "prediction = np.argmax(model.predict(X_test), axis= 1)\n",
    "\n",
    "# Confusion Matrix\n",
    "cm = confusion_matrix(y_test, prediction)\n",
    "\n",
    "# Confusion Matrix Display\n",
    "disp = ConfusionMatrixDisplay(confusion_matrix= cm)\n",
    "disp.plot(cmap = \"Blues\")\n",
    "plt.title(\"Confusion Matrix\")\n",
    "plt.show()"
   ]
  },
  {
   "cell_type": "code",
   "execution_count": null,
   "id": "80bf9b26-f990-4ccc-b0ee-dac0563c3341",
   "metadata": {},
   "outputs": [],
   "source": [
    "class_names[9]"
   ]
  },
  {
   "cell_type": "markdown",
   "id": "b08d8f1b-da27-4f7a-8cac-3f3b3af89e74",
   "metadata": {
    "jp-MarkdownHeadingCollapsed": true
   },
   "source": [
    "# Final Script"
   ]
  },
  {
   "cell_type": "code",
   "execution_count": 48,
   "id": "1693b61c-4c62-4bfe-b9d8-92d97535ae06",
   "metadata": {},
   "outputs": [],
   "source": [
    "# Import Libraries\n",
    "\n",
    "import pandas as pd\n",
    "import numpy as np\n",
    "import matplotlib.pyplot as plt\n",
    "import tensorflow as tf\n",
    "from tensorflow import keras\n",
    "from sklearn.metrics import ConfusionMatrixDisplay, confusion_matrix\n",
    "from keras.models import Sequential\n",
    "from keras.datasets import fashion_mnist\n",
    "\n",
    "class_names = [\n",
    "    \"T-shirt/top\", \n",
    "    \"Trouser\", \n",
    "    \"Pullover\", \n",
    "    \"Dress\", \n",
    "    \"Coat\", \n",
    "    \"Sandal\", \n",
    "    \"Shirt\", \n",
    "    \"Sneaker\", \n",
    "    \"Bag\", \n",
    "    \"Ankle boot\"\n",
    "]\n",
    "\n",
    "\n",
    "class FashionImageClassifier():\n",
    "    def __init__(self, dataset = fashion_mnist):\n",
    "        self.dataset = dataset\n",
    "\n",
    "    # load dataset\n",
    "    def load_keras_data(self):\n",
    "        \"\"\"\n",
    "        method to load dataset from keras.datasets\n",
    "        parameters: None\n",
    "        ----------\n",
    "        returns: X_train_full, y_train_full, X_test, y_test\n",
    "        -------\n",
    "        Example: X_train, y_train, X_test, y_test = load_keras_data()\n",
    "        -------\n",
    "        \"\"\"\n",
    "        \n",
    "        # Load the dataset from keras\n",
    "        (X_train_full, y_train_full), (X_test, y_test) = self.dataset.load_data()\n",
    "    \n",
    "        # Return the train-test splits\n",
    "        return X_train_full, y_train_full, X_test, y_test\n",
    "        \n",
    "    \n",
    "    def preprocess(self, X_train, y_train, split = 0.2, scale_value = 255):\n",
    "        \"\"\"\n",
    "        method to preprocess the loaded dataset. By spliting the train data into validation data.\n",
    "        Then, scaling the feature matrix: X_train/255, X_val / 255\n",
    "        \n",
    "        parameters:\n",
    "        ----------\n",
    "            -X_train,\n",
    "            -y_train,\n",
    "            -split: The validation size, default: 0.2\n",
    "            -scale_value: the value for scaling the feature matrix, default: 255\n",
    "            \n",
    "        returns: X_train, y_train, X_valid, y_valid\n",
    "        -------\n",
    "        Example: X_train, y_train, X_valid, y_valid = preprocess(X_train, y_train, split = 0.1)\n",
    "        -------\n",
    "        \"\"\"\n",
    "        \n",
    "        # Adjust Split\n",
    "        split = round(split * len(X_train))\n",
    "        \n",
    "        # Split into Validation sets\n",
    "        X_valid, X_train = X_train[:split], X_train[split:]\n",
    "        y_valid, y_train = y_train[:split], y_train[split:]\n",
    "        \n",
    "        # Scale between 0 and 1\n",
    "        X_valid = X_valid / scale_value\n",
    "        X_train = X_train / scale_value\n",
    "    \n",
    "        return X_train, y_train, X_valid, y_valid\n",
    "    \n",
    "    def build_model(self):\n",
    "        \"\"\"\n",
    "        method to build the Neural Network. all parameters are defined. \n",
    "        The model contains 2 Hidden layers.\n",
    "        1st layer has 300 neurons, activation = 'relu'\n",
    "        2nd layer has 100 neurons, activation = 'relu'\n",
    "        \n",
    "        parameters: None\n",
    "        ----------\n",
    "        returns: model\n",
    "        -------\n",
    "        Example: model = build_model()\n",
    "        -------\n",
    "        \"\"\"\n",
    "        \n",
    "        # Instantiate Model\n",
    "        model = Sequential()\n",
    "        \n",
    "        # Add Layers to the model\n",
    "        model.add(keras.layers.Flatten(input_shape = [28, 28]))\n",
    "        model.add(keras.layers.Dense(300, activation = \"relu\"))\n",
    "        model.add(keras.layers.Dense(100, activation = \"relu\"))\n",
    "        model.add(keras.layers.Dense(10, activation= \"softmax\"))\n",
    "    \n",
    "        return model\n",
    "    \n",
    "    def compile_model(self, model):\n",
    "        \"\"\"\n",
    "        method to compile the Neural Network. all parameters are defined. \n",
    "        The model contains 2 Hidden layers.\n",
    "               \n",
    "        parameters: model\n",
    "        ----------\n",
    "        returns: None\n",
    "        -------\n",
    "        Example: compile_model(model)\n",
    "        -------\n",
    "        \"\"\"\n",
    "        \n",
    "        # Compiling the model\n",
    "        model.compile(\n",
    "            loss = \"sparse_categorical_crossentropy\",\n",
    "            optimizer = \"sgd\",\n",
    "            metrics = [\"accuracy\"]\n",
    "        )\n",
    "        return \"model compiled successfully\"\n",
    "        \n",
    "    \n",
    "    \n",
    "    def train_model(self, X_train, y_train, X_valid, y_valid, model):\n",
    "        \"\"\"\n",
    "        method to train the model by fitting it to the training and validation sets\n",
    "        \n",
    "        parameters:\n",
    "        ----------\n",
    "            -X_train,\n",
    "            -y_train,\n",
    "            -X_valid,\n",
    "            -y_valid,\n",
    "            -model\n",
    "            \n",
    "        returns: history\n",
    "        -------\n",
    "        Example: history = train_model(X_train, y_train, X_valid, y_valid, model)\n",
    "        -------\n",
    "        \"\"\"\n",
    "        \n",
    "        # Fitting the Model to the train and Validation datasets\n",
    "        history = model.fit(\n",
    "            X_train,\n",
    "            y_train,\n",
    "            epochs= 30,\n",
    "            validation_data= (X_valid, y_valid)\n",
    "        )\n",
    "        return history\n",
    "    \n",
    "    def save_model(self, model, name = \"model.h5\"):\n",
    "        \"\"\"\n",
    "        method to save the trained model using keras.model.save\n",
    "               \n",
    "        parameters: provide the following:\n",
    "        ----------\n",
    "            - model,\n",
    "            - name: file name to save as, default = \"model.h5\n",
    "            \n",
    "        returns: None\n",
    "        -------\n",
    "        Example: save_model(model, name = \"model.h5\")\n",
    "        -------\n",
    "        \"\"\"\n",
    "        \n",
    "        # Save the Model\n",
    "        model.save(name)\n",
    "        return \"Model saved successfully\"\n",
    "    \n",
    "    def load_up_model(self, name):\n",
    "        \"\"\"\n",
    "        method to load_up the saved model using keras.models.load\n",
    "               \n",
    "        parameters: provide the:\n",
    "        ----------\n",
    "            - name: model name\n",
    "            \n",
    "        returns: model\n",
    "        -------\n",
    "        Example: new_model = load_up_model('model.h5')\n",
    "        -------\n",
    "        \"\"\"\n",
    "        \n",
    "        # load saved Model\n",
    "        model = keras.models.load_model(name)\n",
    "    \n",
    "        return model\n",
    "    \n",
    "    def plot_learning_curve(self, model_history):\n",
    "        \"\"\"\n",
    "        method to plot the learning curve of the trained model. this only works directly with the model history.\n",
    "               \n",
    "        parameters: provide the:\n",
    "        ----------\n",
    "            - name: model_history\n",
    "            \n",
    "        returns: graph for learning curve\n",
    "        -------\n",
    "        Example: plot_learning_curve(history.history)\n",
    "        -------\n",
    "        \"\"\"\n",
    "        \n",
    "        # Learning Curve \n",
    "        pd.DataFrame(model_history.history).plot(\n",
    "            title = \"Learning Curve\",\n",
    "            xlabel = \"epochs\", \n",
    "            ylabel = \"Accuracy and Loss\"\n",
    "        )\n",
    "        \n",
    "    \n",
    "    def evaluate_prediction(self, model, X_test, y_test):\n",
    "        \"\"\"\n",
    "        method to evaluate the model performance on test data.\n",
    "               \n",
    "        parameters: provide these:\n",
    "        ----------\n",
    "            - model\n",
    "            - X_test\n",
    "            - y_test\n",
    "            \n",
    "        returns: loss, accuracy\n",
    "        -------\n",
    "        Example: loss, accuracy = evaluate_prediction(model, X_test, y_test)\n",
    "        -------\n",
    "        \"\"\"\n",
    "        \n",
    "        # Evaluate model\n",
    "        loss, accuracy = model.evaluate(X_test, y_test)\n",
    "        return loss, accuracy\n",
    "    \n",
    "    def visualize_some_prediction(self, model, X_test):\n",
    "        \"\"\"\n",
    "        method to visualize figures for three predictions\n",
    "               \n",
    "        parameters: provide these:\n",
    "        ----------\n",
    "            - model\n",
    "            - X_test\n",
    "            \n",
    "        returns: three figures or images\n",
    "        -------\n",
    "        Example: visualize_some_prediction(model, X_test)\n",
    "        -------\n",
    "        \"\"\"\n",
    "        \n",
    "        # Make Prediction in One-Hot Encoding\n",
    "        y_pred = model.predict(X_test[:3])\n",
    "        \n",
    "        # Convert Prediction to class labels\n",
    "        y_pred_label = np.argmax(y_pred, axis = 1)\n",
    "        \n",
    "        # Obtaining class name for predicted labels\n",
    "        class_ = np.array(class_names)[y_pred_label]\n",
    "        \n",
    "        # Show three Samples\n",
    "        plt.figure(figsize=(10, 3))\n",
    "        for i in range(3):\n",
    "            plt.subplot(1, 3, i + 1)\n",
    "            plt.imshow(X_test[i].reshape(28, 28), cmap = \"gray\")\n",
    "            plt.title(f\"pred: {np.array(class_names)[y_pred_label[i]]}\")\n",
    "            plt.axis(\"off\")\n",
    "        \n",
    "        plt.show()\n",
    "    \n",
    "    def display_confusion_matrix(self, model, X_test, y_test):\n",
    "        \"\"\"\n",
    "        method to visualize the confusion matrix display of the model\n",
    "               \n",
    "        parameters: provide these:\n",
    "        ----------\n",
    "            - model\n",
    "            - X_test\n",
    "            - y_test\n",
    "            \n",
    "        returns: confusion matrix display\n",
    "        -------\n",
    "        Example: display_confusion_matrix(model, X_test, y_test):\n",
    "        -------\n",
    "        \"\"\"\n",
    "        \n",
    "        # Prediction\n",
    "        prediction = np.argmax(model.predict(X_test), axis= 1)\n",
    "        \n",
    "        # Confusion Matrix\n",
    "        cm = confusion_matrix(y_test, prediction)\n",
    "        \n",
    "        # Confusion Matrix Display\n",
    "        disp = ConfusionMatrixDisplay(confusion_matrix= cm)\n",
    "        disp.plot(cmap = \"Blues\")\n",
    "        plt.title(\"Confusion Matrix\")\n",
    "        plt.show()"
   ]
  },
  {
   "cell_type": "markdown",
   "id": "4ee4df79-bcc3-4aae-a198-1bf654d0e4b7",
   "metadata": {},
   "source": [
    "## Testing Final Script"
   ]
  },
  {
   "cell_type": "code",
   "execution_count": 41,
   "id": "b2ba4fb0-793c-487c-a2a7-7f95bc284fa0",
   "metadata": {},
   "outputs": [],
   "source": [
    "fashion_mnist = FashionImageClassifier()"
   ]
  },
  {
   "cell_type": "code",
   "execution_count": 42,
   "id": "8aa6d6c7-cbcd-4918-a9a2-58c9fe169203",
   "metadata": {},
   "outputs": [
    {
     "data": {
      "text/plain": [
       "['__class__',\n",
       " '__delattr__',\n",
       " '__dict__',\n",
       " '__dir__',\n",
       " '__doc__',\n",
       " '__eq__',\n",
       " '__format__',\n",
       " '__ge__',\n",
       " '__getattribute__',\n",
       " '__getstate__',\n",
       " '__gt__',\n",
       " '__hash__',\n",
       " '__init__',\n",
       " '__init_subclass__',\n",
       " '__le__',\n",
       " '__lt__',\n",
       " '__module__',\n",
       " '__ne__',\n",
       " '__new__',\n",
       " '__reduce__',\n",
       " '__reduce_ex__',\n",
       " '__repr__',\n",
       " '__setattr__',\n",
       " '__sizeof__',\n",
       " '__str__',\n",
       " '__subclasshook__',\n",
       " '__weakref__',\n",
       " 'build_model',\n",
       " 'compile_model',\n",
       " 'dataset',\n",
       " 'display_confusion_matrix',\n",
       " 'evaluate_prediction',\n",
       " 'load_keras_data',\n",
       " 'load_up_model',\n",
       " 'plot_learning_curve',\n",
       " 'preprocess',\n",
       " 'save_model',\n",
       " 'train_model',\n",
       " 'visualize_some_prediction']"
      ]
     },
     "execution_count": 42,
     "metadata": {},
     "output_type": "execute_result"
    }
   ],
   "source": [
    "dir(fashion_mnist)"
   ]
  },
  {
   "cell_type": "code",
   "execution_count": 5,
   "id": "45fc8ac0-2bae-407d-ba14-447c76e441a8",
   "metadata": {},
   "outputs": [
    {
     "name": "stdout",
     "output_type": "stream",
     "text": [
      "X1: (60000, 28, 28)\n",
      "y1: (60000,)\n",
      "X2: (10000, 28, 28)\n",
      "y2: (10000,)\n"
     ]
    }
   ],
   "source": [
    "X1, y1, X2, y2 = fashion_mnist.load_keras_data()\n",
    "\n",
    "print(f\"X1: {X1.shape}\")\n",
    "print(f\"y1: {y1.shape}\")\n",
    "print(f\"X2: {X2.shape}\")\n",
    "print(f\"y2: {y2.shape}\")"
   ]
  },
  {
   "cell_type": "code",
   "execution_count": 6,
   "id": "c8c2755f-2901-4a9c-b9d3-a38bedab62e6",
   "metadata": {},
   "outputs": [
    {
     "name": "stdout",
     "output_type": "stream",
     "text": [
      "X_train: (48000, 28, 28)\n",
      "y_train: (48000,)\n",
      "X_val: (12000, 28, 28)\n",
      "y_val: (12000,)\n"
     ]
    }
   ],
   "source": [
    "X_train, y_train, X_val, y_val = fashion_mnist.preprocess(X1, y1, split= 0.2)\n",
    "\n",
    "print(f\"X_train: {X_train.shape}\")\n",
    "print(f\"y_train: {y_train.shape}\")\n",
    "print(f\"X_val: {X_val.shape}\")\n",
    "print(f\"y_val: {y_val.shape}\")"
   ]
  },
  {
   "cell_type": "code",
   "execution_count": 17,
   "id": "c2ba76a9-ed67-4508-b25f-0e4f5a6aaeaf",
   "metadata": {},
   "outputs": [
    {
     "name": "stderr",
     "output_type": "stream",
     "text": [
      "C:\\Users\\user\\anaconda3\\Lib\\site-packages\\keras\\src\\layers\\reshaping\\flatten.py:37: UserWarning: Do not pass an `input_shape`/`input_dim` argument to a layer. When using Sequential models, prefer using an `Input(shape)` object as the first layer in the model instead.\n",
      "  super().__init__(**kwargs)\n"
     ]
    },
    {
     "data": {
      "text/plain": [
       "keras.src.models.sequential.Sequential"
      ]
     },
     "execution_count": 17,
     "metadata": {},
     "output_type": "execute_result"
    }
   ],
   "source": [
    "hhh = fashion_mnist.build_model()\n",
    "\n",
    "type(hhh)"
   ]
  },
  {
   "cell_type": "code",
   "execution_count": 18,
   "id": "65a4fe04-8444-4428-a504-1cedae0341cc",
   "metadata": {},
   "outputs": [
    {
     "data": {
      "text/plain": [
       "'model compiled successfully'"
      ]
     },
     "execution_count": 18,
     "metadata": {},
     "output_type": "execute_result"
    }
   ],
   "source": [
    "fashion_mnist.compile_model(hhh)"
   ]
  },
  {
   "cell_type": "code",
   "execution_count": 25,
   "id": "507c9a51-054e-49b9-b7c1-0e7e9fdcf1ee",
   "metadata": {},
   "outputs": [
    {
     "name": "stdout",
     "output_type": "stream",
     "text": [
      "Epoch 1/30\n",
      "\u001b[1m1500/1500\u001b[0m \u001b[32m━━━━━━━━━━━━━━━━━━━━\u001b[0m\u001b[37m\u001b[0m \u001b[1m9s\u001b[0m 6ms/step - accuracy: 0.9170 - loss: 0.2282 - val_accuracy: 0.8896 - val_loss: 0.3052\n",
      "Epoch 2/30\n",
      "\u001b[1m1500/1500\u001b[0m \u001b[32m━━━━━━━━━━━━━━━━━━━━\u001b[0m\u001b[37m\u001b[0m \u001b[1m9s\u001b[0m 6ms/step - accuracy: 0.9190 - loss: 0.2254 - val_accuracy: 0.8942 - val_loss: 0.2955\n",
      "Epoch 3/30\n",
      "\u001b[1m1500/1500\u001b[0m \u001b[32m━━━━━━━━━━━━━━━━━━━━\u001b[0m\u001b[37m\u001b[0m \u001b[1m8s\u001b[0m 6ms/step - accuracy: 0.9221 - loss: 0.2223 - val_accuracy: 0.8872 - val_loss: 0.3096\n",
      "Epoch 4/30\n",
      "\u001b[1m1500/1500\u001b[0m \u001b[32m━━━━━━━━━━━━━━━━━━━━\u001b[0m\u001b[37m\u001b[0m \u001b[1m8s\u001b[0m 6ms/step - accuracy: 0.9199 - loss: 0.2233 - val_accuracy: 0.8878 - val_loss: 0.3077\n",
      "Epoch 5/30\n",
      "\u001b[1m1500/1500\u001b[0m \u001b[32m━━━━━━━━━━━━━━━━━━━━\u001b[0m\u001b[37m\u001b[0m \u001b[1m8s\u001b[0m 6ms/step - accuracy: 0.9201 - loss: 0.2212 - val_accuracy: 0.8903 - val_loss: 0.3008\n",
      "Epoch 6/30\n",
      "\u001b[1m1500/1500\u001b[0m \u001b[32m━━━━━━━━━━━━━━━━━━━━\u001b[0m\u001b[37m\u001b[0m \u001b[1m9s\u001b[0m 6ms/step - accuracy: 0.9232 - loss: 0.2117 - val_accuracy: 0.8780 - val_loss: 0.3619\n",
      "Epoch 7/30\n",
      "\u001b[1m1500/1500\u001b[0m \u001b[32m━━━━━━━━━━━━━━━━━━━━\u001b[0m\u001b[37m\u001b[0m \u001b[1m8s\u001b[0m 5ms/step - accuracy: 0.9259 - loss: 0.2080 - val_accuracy: 0.8903 - val_loss: 0.2983\n",
      "Epoch 8/30\n",
      "\u001b[1m1500/1500\u001b[0m \u001b[32m━━━━━━━━━━━━━━━━━━━━\u001b[0m\u001b[37m\u001b[0m \u001b[1m8s\u001b[0m 5ms/step - accuracy: 0.9267 - loss: 0.2041 - val_accuracy: 0.8916 - val_loss: 0.3036\n",
      "Epoch 9/30\n",
      "\u001b[1m1500/1500\u001b[0m \u001b[32m━━━━━━━━━━━━━━━━━━━━\u001b[0m\u001b[37m\u001b[0m \u001b[1m8s\u001b[0m 5ms/step - accuracy: 0.9262 - loss: 0.2043 - val_accuracy: 0.8953 - val_loss: 0.2938\n",
      "Epoch 10/30\n",
      "\u001b[1m1500/1500\u001b[0m \u001b[32m━━━━━━━━━━━━━━━━━━━━\u001b[0m\u001b[37m\u001b[0m \u001b[1m7s\u001b[0m 5ms/step - accuracy: 0.9281 - loss: 0.2014 - val_accuracy: 0.8937 - val_loss: 0.2946\n",
      "Epoch 11/30\n",
      "\u001b[1m1500/1500\u001b[0m \u001b[32m━━━━━━━━━━━━━━━━━━━━\u001b[0m\u001b[37m\u001b[0m \u001b[1m9s\u001b[0m 6ms/step - accuracy: 0.9290 - loss: 0.2010 - val_accuracy: 0.8943 - val_loss: 0.2955\n",
      "Epoch 12/30\n",
      "\u001b[1m1500/1500\u001b[0m \u001b[32m━━━━━━━━━━━━━━━━━━━━\u001b[0m\u001b[37m\u001b[0m \u001b[1m9s\u001b[0m 6ms/step - accuracy: 0.9300 - loss: 0.1971 - val_accuracy: 0.8763 - val_loss: 0.3626\n",
      "Epoch 13/30\n",
      "\u001b[1m1500/1500\u001b[0m \u001b[32m━━━━━━━━━━━━━━━━━━━━\u001b[0m\u001b[37m\u001b[0m \u001b[1m10s\u001b[0m 6ms/step - accuracy: 0.9336 - loss: 0.1890 - val_accuracy: 0.8914 - val_loss: 0.2961\n",
      "Epoch 14/30\n",
      "\u001b[1m1500/1500\u001b[0m \u001b[32m━━━━━━━━━━━━━━━━━━━━\u001b[0m\u001b[37m\u001b[0m \u001b[1m9s\u001b[0m 6ms/step - accuracy: 0.9337 - loss: 0.1878 - val_accuracy: 0.8941 - val_loss: 0.2982\n",
      "Epoch 15/30\n",
      "\u001b[1m1500/1500\u001b[0m \u001b[32m━━━━━━━━━━━━━━━━━━━━\u001b[0m\u001b[37m\u001b[0m \u001b[1m9s\u001b[0m 6ms/step - accuracy: 0.9345 - loss: 0.1837 - val_accuracy: 0.8961 - val_loss: 0.2875\n",
      "Epoch 16/30\n",
      "\u001b[1m1500/1500\u001b[0m \u001b[32m━━━━━━━━━━━━━━━━━━━━\u001b[0m\u001b[37m\u001b[0m \u001b[1m10s\u001b[0m 6ms/step - accuracy: 0.9358 - loss: 0.1799 - val_accuracy: 0.8907 - val_loss: 0.3063\n",
      "Epoch 17/30\n",
      "\u001b[1m1500/1500\u001b[0m \u001b[32m━━━━━━━━━━━━━━━━━━━━\u001b[0m\u001b[37m\u001b[0m \u001b[1m9s\u001b[0m 6ms/step - accuracy: 0.9367 - loss: 0.1764 - val_accuracy: 0.8937 - val_loss: 0.2962\n",
      "Epoch 18/30\n",
      "\u001b[1m1500/1500\u001b[0m \u001b[32m━━━━━━━━━━━━━━━━━━━━\u001b[0m\u001b[37m\u001b[0m \u001b[1m9s\u001b[0m 6ms/step - accuracy: 0.9387 - loss: 0.1778 - val_accuracy: 0.8935 - val_loss: 0.2953\n",
      "Epoch 19/30\n",
      "\u001b[1m1500/1500\u001b[0m \u001b[32m━━━━━━━━━━━━━━━━━━━━\u001b[0m\u001b[37m\u001b[0m \u001b[1m9s\u001b[0m 6ms/step - accuracy: 0.9385 - loss: 0.1735 - val_accuracy: 0.8909 - val_loss: 0.2996\n",
      "Epoch 20/30\n",
      "\u001b[1m1500/1500\u001b[0m \u001b[32m━━━━━━━━━━━━━━━━━━━━\u001b[0m\u001b[37m\u001b[0m \u001b[1m9s\u001b[0m 6ms/step - accuracy: 0.9385 - loss: 0.1710 - val_accuracy: 0.8957 - val_loss: 0.2938\n",
      "Epoch 21/30\n",
      "\u001b[1m1500/1500\u001b[0m \u001b[32m━━━━━━━━━━━━━━━━━━━━\u001b[0m\u001b[37m\u001b[0m \u001b[1m9s\u001b[0m 6ms/step - accuracy: 0.9406 - loss: 0.1682 - val_accuracy: 0.8960 - val_loss: 0.2944\n",
      "Epoch 22/30\n",
      "\u001b[1m1500/1500\u001b[0m \u001b[32m━━━━━━━━━━━━━━━━━━━━\u001b[0m\u001b[37m\u001b[0m \u001b[1m9s\u001b[0m 6ms/step - accuracy: 0.9410 - loss: 0.1699 - val_accuracy: 0.8943 - val_loss: 0.2985\n",
      "Epoch 23/30\n",
      "\u001b[1m1500/1500\u001b[0m \u001b[32m━━━━━━━━━━━━━━━━━━━━\u001b[0m\u001b[37m\u001b[0m \u001b[1m9s\u001b[0m 6ms/step - accuracy: 0.9422 - loss: 0.1635 - val_accuracy: 0.8896 - val_loss: 0.3073\n",
      "Epoch 24/30\n",
      "\u001b[1m1500/1500\u001b[0m \u001b[32m━━━━━━━━━━━━━━━━━━━━\u001b[0m\u001b[37m\u001b[0m \u001b[1m9s\u001b[0m 6ms/step - accuracy: 0.9447 - loss: 0.1577 - val_accuracy: 0.8897 - val_loss: 0.3147\n",
      "Epoch 25/30\n",
      "\u001b[1m1500/1500\u001b[0m \u001b[32m━━━━━━━━━━━━━━━━━━━━\u001b[0m\u001b[37m\u001b[0m \u001b[1m9s\u001b[0m 6ms/step - accuracy: 0.9460 - loss: 0.1581 - val_accuracy: 0.8833 - val_loss: 0.3414\n",
      "Epoch 26/30\n",
      "\u001b[1m1500/1500\u001b[0m \u001b[32m━━━━━━━━━━━━━━━━━━━━\u001b[0m\u001b[37m\u001b[0m \u001b[1m9s\u001b[0m 6ms/step - accuracy: 0.9448 - loss: 0.1559 - val_accuracy: 0.8933 - val_loss: 0.3071\n",
      "Epoch 27/30\n",
      "\u001b[1m1500/1500\u001b[0m \u001b[32m━━━━━━━━━━━━━━━━━━━━\u001b[0m\u001b[37m\u001b[0m \u001b[1m9s\u001b[0m 6ms/step - accuracy: 0.9476 - loss: 0.1525 - val_accuracy: 0.8901 - val_loss: 0.3187\n",
      "Epoch 28/30\n",
      "\u001b[1m1500/1500\u001b[0m \u001b[32m━━━━━━━━━━━━━━━━━━━━\u001b[0m\u001b[37m\u001b[0m \u001b[1m9s\u001b[0m 6ms/step - accuracy: 0.9464 - loss: 0.1495 - val_accuracy: 0.8953 - val_loss: 0.3078\n",
      "Epoch 29/30\n",
      "\u001b[1m1500/1500\u001b[0m \u001b[32m━━━━━━━━━━━━━━━━━━━━\u001b[0m\u001b[37m\u001b[0m \u001b[1m9s\u001b[0m 6ms/step - accuracy: 0.9477 - loss: 0.1497 - val_accuracy: 0.8907 - val_loss: 0.3148\n",
      "Epoch 30/30\n",
      "\u001b[1m1500/1500\u001b[0m \u001b[32m━━━━━━━━━━━━━━━━━━━━\u001b[0m\u001b[37m\u001b[0m \u001b[1m9s\u001b[0m 6ms/step - accuracy: 0.9498 - loss: 0.1437 - val_accuracy: 0.8904 - val_loss: 0.3160\n"
     ]
    }
   ],
   "source": [
    "history = fashion_mnist.train_model(X_train, y_train, X_val, y_val, hhh)"
   ]
  },
  {
   "cell_type": "code",
   "execution_count": 26,
   "id": "894d7373-5d66-416a-bd1c-eb8fe1c97163",
   "metadata": {},
   "outputs": [
    {
     "data": {
      "image/png": "[encoded data removed]",
      "text/plain": [
       "<Figure size 640x480 with 1 Axes>"
      ]
     },
     "metadata": {},
     "output_type": "display_data"
    }
   ],
   "source": [
    "fashion_mnist.plot_learning_curve(history)"
   ]
  },
  {
   "cell_type": "code",
   "execution_count": 27,
   "id": "8899ab0c-9607-4163-92d2-560caf035bde",
   "metadata": {},
   "outputs": [
    {
     "name": "stderr",
     "output_type": "stream",
     "text": [
      "WARNING:absl:You are saving your model as an HDF5 file via `model.save()` or `keras.saving.save_model(model)`. This file format is considered legacy. We recommend using instead the native Keras format, e.g. `model.save('my_model.keras')` or `keras.saving.save_model(model, 'my_model.keras')`. \n"
     ]
    },
    {
     "data": {
      "text/plain": [
       "'Model saved successfully'"
      ]
     },
     "execution_count": 27,
     "metadata": {},
     "output_type": "execute_result"
    }
   ],
   "source": [
    "fashion_mnist.save_model(hhh, name = \"xjs.h5\")"
   ]
  },
  {
   "cell_type": "code",
   "execution_count": 28,
   "id": "3651fe71-584d-479e-aa1b-02f219af8868",
   "metadata": {},
   "outputs": [
    {
     "name": "stderr",
     "output_type": "stream",
     "text": [
      "WARNING:absl:Compiled the loaded model, but the compiled metrics have yet to be built. `model.compile_metrics` will be empty until you train or evaluate the model.\n"
     ]
    }
   ],
   "source": [
    "kkk = fashion_mnist.load_up_model(\"xjs.h5\")"
   ]
  },
  {
   "cell_type": "code",
   "execution_count": 29,
   "id": "b88a1380-c2d7-4f05-abca-e60ab1b89d00",
   "metadata": {},
   "outputs": [
    {
     "data": {
      "text/html": [
       "<pre style=\"white-space:pre;overflow-x:auto;line-height:normal;font-family:Menlo,'DejaVu Sans Mono',consolas,'Courier New',monospace\"><span style=\"font-weight: bold\">Model: \"sequential_1\"</span>\n",
       "</pre>\n"
      ],
      "text/plain": [
       "\u001b[1mModel: \"sequential_1\"\u001b[0m\n"
      ]
     },
     "metadata": {},
     "output_type": "display_data"
    },
    {
     "data": {
      "text/html": [
       "<pre style=\"white-space:pre;overflow-x:auto;line-height:normal;font-family:Menlo,'DejaVu Sans Mono',consolas,'Courier New',monospace\">┏━━━━━━━━━━━━━━━━━━━━━━━━━━━━━━━━━━━━━━┳━━━━━━━━━━━━━━━━━━━━━━━━━━━━━┳━━━━━━━━━━━━━━━━━┓\n",
       "┃<span style=\"font-weight: bold\"> Layer (type)                         </span>┃<span style=\"font-weight: bold\"> Output Shape                </span>┃<span style=\"font-weight: bold\">         Param # </span>┃\n",
       "┡━━━━━━━━━━━━━━━━━━━━━━━━━━━━━━━━━━━━━━╇━━━━━━━━━━━━━━━━━━━━━━━━━━━━━╇━━━━━━━━━━━━━━━━━┩\n",
       "│ flatten_1 (<span style=\"color: #0087ff; text-decoration-color: #0087ff\">Flatten</span>)                  │ (<span style=\"color: #00d7ff; text-decoration-color: #00d7ff\">None</span>, <span style=\"color: #00af00; text-decoration-color: #00af00\">784</span>)                 │               <span style=\"color: #00af00; text-decoration-color: #00af00\">0</span> │\n",
       "├──────────────────────────────────────┼─────────────────────────────┼─────────────────┤\n",
       "│ dense_3 (<span style=\"color: #0087ff; text-decoration-color: #0087ff\">Dense</span>)                      │ (<span style=\"color: #00d7ff; text-decoration-color: #00d7ff\">None</span>, <span style=\"color: #00af00; text-decoration-color: #00af00\">300</span>)                 │         <span style=\"color: #00af00; text-decoration-color: #00af00\">235,500</span> │\n",
       "├──────────────────────────────────────┼─────────────────────────────┼─────────────────┤\n",
       "│ dense_4 (<span style=\"color: #0087ff; text-decoration-color: #0087ff\">Dense</span>)                      │ (<span style=\"color: #00d7ff; text-decoration-color: #00d7ff\">None</span>, <span style=\"color: #00af00; text-decoration-color: #00af00\">100</span>)                 │          <span style=\"color: #00af00; text-decoration-color: #00af00\">30,100</span> │\n",
       "├──────────────────────────────────────┼─────────────────────────────┼─────────────────┤\n",
       "│ dense_5 (<span style=\"color: #0087ff; text-decoration-color: #0087ff\">Dense</span>)                      │ (<span style=\"color: #00d7ff; text-decoration-color: #00d7ff\">None</span>, <span style=\"color: #00af00; text-decoration-color: #00af00\">10</span>)                  │           <span style=\"color: #00af00; text-decoration-color: #00af00\">1,010</span> │\n",
       "└──────────────────────────────────────┴─────────────────────────────┴─────────────────┘\n",
       "</pre>\n"
      ],
      "text/plain": [
       "┏━━━━━━━━━━━━━━━━━━━━━━━━━━━━━━━━━━━━━━┳━━━━━━━━━━━━━━━━━━━━━━━━━━━━━┳━━━━━━━━━━━━━━━━━┓\n",
       "┃\u001b[1m \u001b[0m\u001b[1mLayer (type)                        \u001b[0m\u001b[1m \u001b[0m┃\u001b[1m \u001b[0m\u001b[1mOutput Shape               \u001b[0m\u001b[1m \u001b[0m┃\u001b[1m \u001b[0m\u001b[1m        Param #\u001b[0m\u001b[1m \u001b[0m┃\n",
       "┡━━━━━━━━━━━━━━━━━━━━━━━━━━━━━━━━━━━━━━╇━━━━━━━━━━━━━━━━━━━━━━━━━━━━━╇━━━━━━━━━━━━━━━━━┩\n",
       "│ flatten_1 (\u001b[38;5;33mFlatten\u001b[0m)                  │ (\u001b[38;5;45mNone\u001b[0m, \u001b[38;5;34m784\u001b[0m)                 │               \u001b[38;5;34m0\u001b[0m │\n",
       "├──────────────────────────────────────┼─────────────────────────────┼─────────────────┤\n",
       "│ dense_3 (\u001b[38;5;33mDense\u001b[0m)                      │ (\u001b[38;5;45mNone\u001b[0m, \u001b[38;5;34m300\u001b[0m)                 │         \u001b[38;5;34m235,500\u001b[0m │\n",
       "├──────────────────────────────────────┼─────────────────────────────┼─────────────────┤\n",
       "│ dense_4 (\u001b[38;5;33mDense\u001b[0m)                      │ (\u001b[38;5;45mNone\u001b[0m, \u001b[38;5;34m100\u001b[0m)                 │          \u001b[38;5;34m30,100\u001b[0m │\n",
       "├──────────────────────────────────────┼─────────────────────────────┼─────────────────┤\n",
       "│ dense_5 (\u001b[38;5;33mDense\u001b[0m)                      │ (\u001b[38;5;45mNone\u001b[0m, \u001b[38;5;34m10\u001b[0m)                  │           \u001b[38;5;34m1,010\u001b[0m │\n",
       "└──────────────────────────────────────┴─────────────────────────────┴─────────────────┘\n"
      ]
     },
     "metadata": {},
     "output_type": "display_data"
    },
    {
     "data": {
      "text/html": [
       "<pre style=\"white-space:pre;overflow-x:auto;line-height:normal;font-family:Menlo,'DejaVu Sans Mono',consolas,'Courier New',monospace\"><span style=\"font-weight: bold\"> Total params: </span><span style=\"color: #00af00; text-decoration-color: #00af00\">266,612</span> (1.02 MB)\n",
       "</pre>\n"
      ],
      "text/plain": [
       "\u001b[1m Total params: \u001b[0m\u001b[38;5;34m266,612\u001b[0m (1.02 MB)\n"
      ]
     },
     "metadata": {},
     "output_type": "display_data"
    },
    {
     "data": {
      "text/html": [
       "<pre style=\"white-space:pre;overflow-x:auto;line-height:normal;font-family:Menlo,'DejaVu Sans Mono',consolas,'Courier New',monospace\"><span style=\"font-weight: bold\"> Trainable params: </span><span style=\"color: #00af00; text-decoration-color: #00af00\">266,610</span> (1.02 MB)\n",
       "</pre>\n"
      ],
      "text/plain": [
       "\u001b[1m Trainable params: \u001b[0m\u001b[38;5;34m266,610\u001b[0m (1.02 MB)\n"
      ]
     },
     "metadata": {},
     "output_type": "display_data"
    },
    {
     "data": {
      "text/html": [
       "<pre style=\"white-space:pre;overflow-x:auto;line-height:normal;font-family:Menlo,'DejaVu Sans Mono',consolas,'Courier New',monospace\"><span style=\"font-weight: bold\"> Non-trainable params: </span><span style=\"color: #00af00; text-decoration-color: #00af00\">0</span> (0.00 B)\n",
       "</pre>\n"
      ],
      "text/plain": [
       "\u001b[1m Non-trainable params: \u001b[0m\u001b[38;5;34m0\u001b[0m (0.00 B)\n"
      ]
     },
     "metadata": {},
     "output_type": "display_data"
    },
    {
     "data": {
      "text/html": [
       "<pre style=\"white-space:pre;overflow-x:auto;line-height:normal;font-family:Menlo,'DejaVu Sans Mono',consolas,'Courier New',monospace\"><span style=\"font-weight: bold\"> Optimizer params: </span><span style=\"color: #00af00; text-decoration-color: #00af00\">2</span> (12.00 B)\n",
       "</pre>\n"
      ],
      "text/plain": [
       "\u001b[1m Optimizer params: \u001b[0m\u001b[38;5;34m2\u001b[0m (12.00 B)\n"
      ]
     },
     "metadata": {},
     "output_type": "display_data"
    }
   ],
   "source": [
    "kkk.summary()"
   ]
  },
  {
   "cell_type": "code",
   "execution_count": 32,
   "id": "bb7ab127-557a-4c3a-9a49-0b041c1c79be",
   "metadata": {},
   "outputs": [
    {
     "name": "stdout",
     "output_type": "stream",
     "text": [
      "\u001b[1m313/313\u001b[0m \u001b[32m━━━━━━━━━━━━━━━━━━━━\u001b[0m\u001b[37m\u001b[0m \u001b[1m1s\u001b[0m 4ms/step - accuracy: 0.8568 - loss: 71.3770   \n"
     ]
    },
    {
     "data": {
      "text/plain": [
       "(73.21845245361328, 0.8540999889373779)"
      ]
     },
     "execution_count": 32,
     "metadata": {},
     "output_type": "execute_result"
    }
   ],
   "source": [
    "fashion_mnist.evaluate_prediction(kkk, X2, y2)"
   ]
  },
  {
   "cell_type": "code",
   "execution_count": 35,
   "id": "3d14524a-9f3e-45a0-991d-dad382ac71fb",
   "metadata": {},
   "outputs": [
    {
     "name": "stdout",
     "output_type": "stream",
     "text": [
      "\u001b[1m1/1\u001b[0m \u001b[32m━━━━━━━━━━━━━━━━━━━━\u001b[0m\u001b[37m\u001b[0m \u001b[1m0s\u001b[0m 67ms/step\n"
     ]
    },
    {
     "data": {
      "image/png": "[encoded data removed]",
      "text/plain": [
       "<Figure size 1000x300 with 3 Axes>"
      ]
     },
     "metadata": {},
     "output_type": "display_data"
    }
   ],
   "source": [
    "fashion_mnist.visualize_some_prediction(kkk, X2)"
   ]
  },
  {
   "cell_type": "code",
   "execution_count": 39,
   "id": "2c4f26aa-c376-4dcb-80b3-69c8f507fc8e",
   "metadata": {},
   "outputs": [
    {
     "name": "stdout",
     "output_type": "stream",
     "text": [
      "\u001b[1m313/313\u001b[0m \u001b[32m━━━━━━━━━━━━━━━━━━━━\u001b[0m\u001b[37m\u001b[0m \u001b[1m1s\u001b[0m 3ms/step  \n"
     ]
    },
    {
     "data": {
      "image/png": "[encoded data removed]",
      "text/plain": [
       "<Figure size 640x480 with 2 Axes>"
      ]
     },
     "metadata": {},
     "output_type": "display_data"
    }
   ],
   "source": [
    "fashion_mnist.display_confusion_matrix(kkk, X2, y2)"
   ]
  },
  {
   "cell_type": "markdown",
   "id": "28f1bba6-5ea0-4d00-af9b-1900fda07da1",
   "metadata": {},
   "source": [
    "# Implementing Model from External Module"
   ]
  },
  {
   "cell_type": "code",
   "execution_count": 49,
   "id": "c35a8382-22ff-42d3-a237-c9e8bb48c425",
   "metadata": {},
   "outputs": [],
   "source": [
    "from fashion import FashionImageClassifier\n",
    "\n",
    "fashion_mnist = FashionImageClassifier()"
   ]
  },
  {
   "cell_type": "code",
   "execution_count": 53,
   "id": "81d6ebe8-d8a2-4f6a-bb29-47042e35f994",
   "metadata": {},
   "outputs": [
    {
     "name": "stdout",
     "output_type": "stream",
     "text": [
      "X1: (60000, 28, 28)\n",
      "y1: (60000,)\n",
      "X2: (10000, 28, 28)\n",
      "y2: (10000,)\n"
     ]
    }
   ],
   "source": [
    "X1, y1, X2, y2 = fashion_mnist.load_keras_data()\n",
    "\n",
    "print(f\"X1: {X1.shape}\")\n",
    "print(f\"y1: {y1.shape}\")\n",
    "print(f\"X2: {X2.shape}\")\n",
    "print(f\"y2: {y2.shape}\")"
   ]
  },
  {
   "cell_type": "code",
   "execution_count": 55,
   "id": "e0218f4d-5e4d-4f54-ad7b-539aff5261cc",
   "metadata": {},
   "outputs": [],
   "source": [
    "X_train, y_train, X_valid, y_valid = fashion_mnist.preprocess(X_train, y_train, split = 0.2)"
   ]
  },
  {
   "cell_type": "code",
   "execution_count": 57,
   "id": "635f30aa-5136-4bc8-9d30-dd7b24434c23",
   "metadata": {},
   "outputs": [
    {
     "name": "stderr",
     "output_type": "stream",
     "text": [
      "WARNING:absl:Compiled the loaded model, but the compiled metrics have yet to be built. `model.compile_metrics` will be empty until you train or evaluate the model.\n"
     ]
    }
   ],
   "source": [
    "new_model = fashion_mnist.load_up_model(\"xjs.h5\")"
   ]
  },
  {
   "cell_type": "code",
   "execution_count": 58,
   "id": "081db53c-a6d8-4ae2-abfb-4f7f44f1b315",
   "metadata": {},
   "outputs": [
    {
     "data": {
      "text/html": [
       "<pre style=\"white-space:pre;overflow-x:auto;line-height:normal;font-family:Menlo,'DejaVu Sans Mono',consolas,'Courier New',monospace\"><span style=\"font-weight: bold\">Model: \"sequential_1\"</span>\n",
       "</pre>\n"
      ],
      "text/plain": [
       "\u001b[1mModel: \"sequential_1\"\u001b[0m\n"
      ]
     },
     "metadata": {},
     "output_type": "display_data"
    },
    {
     "data": {
      "text/html": [
       "<pre style=\"white-space:pre;overflow-x:auto;line-height:normal;font-family:Menlo,'DejaVu Sans Mono',consolas,'Courier New',monospace\">┏━━━━━━━━━━━━━━━━━━━━━━━━━━━━━━━━━━━━━━┳━━━━━━━━━━━━━━━━━━━━━━━━━━━━━┳━━━━━━━━━━━━━━━━━┓\n",
       "┃<span style=\"font-weight: bold\"> Layer (type)                         </span>┃<span style=\"font-weight: bold\"> Output Shape                </span>┃<span style=\"font-weight: bold\">         Param # </span>┃\n",
       "┡━━━━━━━━━━━━━━━━━━━━━━━━━━━━━━━━━━━━━━╇━━━━━━━━━━━━━━━━━━━━━━━━━━━━━╇━━━━━━━━━━━━━━━━━┩\n",
       "│ flatten_1 (<span style=\"color: #0087ff; text-decoration-color: #0087ff\">Flatten</span>)                  │ (<span style=\"color: #00d7ff; text-decoration-color: #00d7ff\">None</span>, <span style=\"color: #00af00; text-decoration-color: #00af00\">784</span>)                 │               <span style=\"color: #00af00; text-decoration-color: #00af00\">0</span> │\n",
       "├──────────────────────────────────────┼─────────────────────────────┼─────────────────┤\n",
       "│ dense_3 (<span style=\"color: #0087ff; text-decoration-color: #0087ff\">Dense</span>)                      │ (<span style=\"color: #00d7ff; text-decoration-color: #00d7ff\">None</span>, <span style=\"color: #00af00; text-decoration-color: #00af00\">300</span>)                 │         <span style=\"color: #00af00; text-decoration-color: #00af00\">235,500</span> │\n",
       "├──────────────────────────────────────┼─────────────────────────────┼─────────────────┤\n",
       "│ dense_4 (<span style=\"color: #0087ff; text-decoration-color: #0087ff\">Dense</span>)                      │ (<span style=\"color: #00d7ff; text-decoration-color: #00d7ff\">None</span>, <span style=\"color: #00af00; text-decoration-color: #00af00\">100</span>)                 │          <span style=\"color: #00af00; text-decoration-color: #00af00\">30,100</span> │\n",
       "├──────────────────────────────────────┼─────────────────────────────┼─────────────────┤\n",
       "│ dense_5 (<span style=\"color: #0087ff; text-decoration-color: #0087ff\">Dense</span>)                      │ (<span style=\"color: #00d7ff; text-decoration-color: #00d7ff\">None</span>, <span style=\"color: #00af00; text-decoration-color: #00af00\">10</span>)                  │           <span style=\"color: #00af00; text-decoration-color: #00af00\">1,010</span> │\n",
       "└──────────────────────────────────────┴─────────────────────────────┴─────────────────┘\n",
       "</pre>\n"
      ],
      "text/plain": [
       "┏━━━━━━━━━━━━━━━━━━━━━━━━━━━━━━━━━━━━━━┳━━━━━━━━━━━━━━━━━━━━━━━━━━━━━┳━━━━━━━━━━━━━━━━━┓\n",
       "┃\u001b[1m \u001b[0m\u001b[1mLayer (type)                        \u001b[0m\u001b[1m \u001b[0m┃\u001b[1m \u001b[0m\u001b[1mOutput Shape               \u001b[0m\u001b[1m \u001b[0m┃\u001b[1m \u001b[0m\u001b[1m        Param #\u001b[0m\u001b[1m \u001b[0m┃\n",
       "┡━━━━━━━━━━━━━━━━━━━━━━━━━━━━━━━━━━━━━━╇━━━━━━━━━━━━━━━━━━━━━━━━━━━━━╇━━━━━━━━━━━━━━━━━┩\n",
       "│ flatten_1 (\u001b[38;5;33mFlatten\u001b[0m)                  │ (\u001b[38;5;45mNone\u001b[0m, \u001b[38;5;34m784\u001b[0m)                 │               \u001b[38;5;34m0\u001b[0m │\n",
       "├──────────────────────────────────────┼─────────────────────────────┼─────────────────┤\n",
       "│ dense_3 (\u001b[38;5;33mDense\u001b[0m)                      │ (\u001b[38;5;45mNone\u001b[0m, \u001b[38;5;34m300\u001b[0m)                 │         \u001b[38;5;34m235,500\u001b[0m │\n",
       "├──────────────────────────────────────┼─────────────────────────────┼─────────────────┤\n",
       "│ dense_4 (\u001b[38;5;33mDense\u001b[0m)                      │ (\u001b[38;5;45mNone\u001b[0m, \u001b[38;5;34m100\u001b[0m)                 │          \u001b[38;5;34m30,100\u001b[0m │\n",
       "├──────────────────────────────────────┼─────────────────────────────┼─────────────────┤\n",
       "│ dense_5 (\u001b[38;5;33mDense\u001b[0m)                      │ (\u001b[38;5;45mNone\u001b[0m, \u001b[38;5;34m10\u001b[0m)                  │           \u001b[38;5;34m1,010\u001b[0m │\n",
       "└──────────────────────────────────────┴─────────────────────────────┴─────────────────┘\n"
      ]
     },
     "metadata": {},
     "output_type": "display_data"
    },
    {
     "data": {
      "text/html": [
       "<pre style=\"white-space:pre;overflow-x:auto;line-height:normal;font-family:Menlo,'DejaVu Sans Mono',consolas,'Courier New',monospace\"><span style=\"font-weight: bold\"> Total params: </span><span style=\"color: #00af00; text-decoration-color: #00af00\">266,612</span> (1.02 MB)\n",
       "</pre>\n"
      ],
      "text/plain": [
       "\u001b[1m Total params: \u001b[0m\u001b[38;5;34m266,612\u001b[0m (1.02 MB)\n"
      ]
     },
     "metadata": {},
     "output_type": "display_data"
    },
    {
     "data": {
      "text/html": [
       "<pre style=\"white-space:pre;overflow-x:auto;line-height:normal;font-family:Menlo,'DejaVu Sans Mono',consolas,'Courier New',monospace\"><span style=\"font-weight: bold\"> Trainable params: </span><span style=\"color: #00af00; text-decoration-color: #00af00\">266,610</span> (1.02 MB)\n",
       "</pre>\n"
      ],
      "text/plain": [
       "\u001b[1m Trainable params: \u001b[0m\u001b[38;5;34m266,610\u001b[0m (1.02 MB)\n"
      ]
     },
     "metadata": {},
     "output_type": "display_data"
    },
    {
     "data": {
      "text/html": [
       "<pre style=\"white-space:pre;overflow-x:auto;line-height:normal;font-family:Menlo,'DejaVu Sans Mono',consolas,'Courier New',monospace\"><span style=\"font-weight: bold\"> Non-trainable params: </span><span style=\"color: #00af00; text-decoration-color: #00af00\">0</span> (0.00 B)\n",
       "</pre>\n"
      ],
      "text/plain": [
       "\u001b[1m Non-trainable params: \u001b[0m\u001b[38;5;34m0\u001b[0m (0.00 B)\n"
      ]
     },
     "metadata": {},
     "output_type": "display_data"
    },
    {
     "data": {
      "text/html": [
       "<pre style=\"white-space:pre;overflow-x:auto;line-height:normal;font-family:Menlo,'DejaVu Sans Mono',consolas,'Courier New',monospace\"><span style=\"font-weight: bold\"> Optimizer params: </span><span style=\"color: #00af00; text-decoration-color: #00af00\">2</span> (12.00 B)\n",
       "</pre>\n"
      ],
      "text/plain": [
       "\u001b[1m Optimizer params: \u001b[0m\u001b[38;5;34m2\u001b[0m (12.00 B)\n"
      ]
     },
     "metadata": {},
     "output_type": "display_data"
    }
   ],
   "source": [
    "new_model.summary()"
   ]
  },
  {
   "cell_type": "code",
   "execution_count": 60,
   "id": "ebd81acd-6cb9-4a5b-82a2-3e7aa66573a1",
   "metadata": {},
   "outputs": [
    {
     "name": "stdout",
     "output_type": "stream",
     "text": [
      "\u001b[1m313/313\u001b[0m \u001b[32m━━━━━━━━━━━━━━━━━━━━\u001b[0m\u001b[37m\u001b[0m \u001b[1m2s\u001b[0m 4ms/step - accuracy: 0.8568 - loss: 71.3770\n"
     ]
    }
   ],
   "source": [
    "loss, accuracy = fashion_mnist.evaluate_prediction(new_model, X2, y2)"
   ]
  },
  {
   "cell_type": "code",
   "execution_count": 61,
   "id": "b1f54df2-be79-44ce-9849-d5d32fdafb0d",
   "metadata": {},
   "outputs": [
    {
     "data": {
      "text/plain": [
       "73.21845245361328"
      ]
     },
     "execution_count": 61,
     "metadata": {},
     "output_type": "execute_result"
    }
   ],
   "source": [
    "loss"
   ]
  },
  {
   "cell_type": "code",
   "execution_count": 62,
   "id": "4787d38e-1638-4147-b1a5-819c257997ee",
   "metadata": {},
   "outputs": [
    {
     "data": {
      "text/plain": [
       "0.8540999889373779"
      ]
     },
     "execution_count": 62,
     "metadata": {},
     "output_type": "execute_result"
    }
   ],
   "source": [
    "accuracy"
   ]
  },
  {
   "cell_type": "code",
   "execution_count": 64,
   "id": "e7e0a67d-0005-421a-a585-751a1b81a3ec",
   "metadata": {},
   "outputs": [
    {
     "name": "stdout",
     "output_type": "stream",
     "text": [
      "\u001b[1m1/1\u001b[0m \u001b[32m━━━━━━━━━━━━━━━━━━━━\u001b[0m\u001b[37m\u001b[0m \u001b[1m0s\u001b[0m 125ms/step\n"
     ]
    },
    {
     "data": {
      "image/png": "[encoded data removed]",
      "text/plain": [
       "<Figure size 1000x300 with 3 Axes>"
      ]
     },
     "metadata": {},
     "output_type": "display_data"
    }
   ],
   "source": [
    "fashion_mnist.visualize_some_prediction(new_model, X2)"
   ]
  },
  {
   "cell_type": "code",
   "execution_count": 66,
   "id": "695ea8df-a8f0-41b5-9859-a9fb54901e28",
   "metadata": {},
   "outputs": [
    {
     "name": "stdout",
     "output_type": "stream",
     "text": [
      "\u001b[1m313/313\u001b[0m \u001b[32m━━━━━━━━━━━━━━━━━━━━\u001b[0m\u001b[37m\u001b[0m \u001b[1m1s\u001b[0m 3ms/step   \n"
     ]
    },
    {
     "data": {
      "image/png": "[encoded data removed]",
      "text/plain": [
       "<Figure size 640x480 with 2 Axes>"
      ]
     },
     "metadata": {},
     "output_type": "display_data"
    }
   ],
   "source": [
    "fashion_mnist.display_confusion_matrix(new_model, X2, y2)"
   ]
  },
  {
   "cell_type": "code",
   "execution_count": null,
   "id": "47392ea1-1d84-4ae9-85b1-29033d2ab882",
   "metadata": {},
   "outputs": [],
   "source": []
  }
 ],
 "metadata": {
  "kernelspec": {
   "display_name": "Python 3 (ipykernel)",
   "language": "python",
   "name": "python3"
  },
  "language_info": {
   "codemirror_mode": {
    "name": "ipython",
    "version": 3
   },
   "file_extension": ".py",
   "mimetype": "text/x-python",
   "name": "python",
   "nbconvert_exporter": "python",
   "pygments_lexer": "ipython3",
   "version": "3.12.7"
  }
 },
 "nbformat": 4,
 "nbformat_minor": 5
}
